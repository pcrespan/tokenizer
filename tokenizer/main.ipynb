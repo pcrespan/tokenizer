{
 "cells": [
  {
   "cell_type": "code",
   "id": "initial_id",
   "metadata": {
    "collapsed": true
   },
   "source": "import re",
   "outputs": [],
   "execution_count": null
  },
  {
   "metadata": {},
   "cell_type": "code",
   "source": [
    "with open(\"data/wizard-of-oz.txt\", encoding=\"utf-8\") as f:\n",
    "    data = f.read()"
   ],
   "id": "dbcde4a080a2e49e",
   "outputs": [],
   "execution_count": null
  },
  {
   "metadata": {},
   "cell_type": "code",
   "source": [
    "# Incluindo !?-- etc\n",
    "preprocessed = re.split(r'([,.:;?_!\"()\\']|--|\\s)', data)\n",
    "preprocessed = [item for item in preprocessed if item.strip()]\n",
    "print(preprocessed)"
   ],
   "id": "ac03347e66214f2",
   "outputs": [],
   "execution_count": null
  }
 ],
 "metadata": {
  "kernelspec": {
   "display_name": "Python 3",
   "language": "python",
   "name": "python3"
  },
  "language_info": {
   "codemirror_mode": {
    "name": "ipython",
    "version": 2
   },
   "file_extension": ".py",
   "mimetype": "text/x-python",
   "name": "python",
   "nbconvert_exporter": "python",
   "pygments_lexer": "ipython2",
   "version": "2.7.6"
  }
 },
 "nbformat": 4,
 "nbformat_minor": 5
}
